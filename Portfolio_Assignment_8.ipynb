{
 "cells": [
  {
   "cell_type": "code",
   "execution_count": 2,
   "id": "e0ef9b9d",
   "metadata": {},
   "outputs": [],
   "source": [
    "import pandas as pd\n",
    "pokemon = pd.read_csv('pokedex_(Update_04.21).csv', sep=',')\n",
    "pd.set_option('max_columns', 100)"
   ]
  },
  {
   "cell_type": "code",
   "execution_count": 25,
   "id": "09c5f980",
   "metadata": {},
   "outputs": [
    {
     "name": "stdout",
     "output_type": "stream",
     "text": [
      "(76.67498719178374, 79.8726557370026)\n",
      "(76.36814913122944, 80.17949379755692)\n",
      "(75.76758454334616, 80.7800583854402)\n",
      "(74.4802385835178, 82.06740434526856)\n",
      "95% confidence with less data:  (49.04157364218651, 74.3584263578135)\n"
     ]
    }
   ],
   "source": [
    "import scipy.stats as st\n",
    "print(st.t.interval(0.90, len(pokemon['attack'])-1, loc=pokemon['attack'].mean(), scale=st.sem(pokemon['attack'])))\n",
    "print(st.t.interval(0.95, len(pokemon['attack'])-1, loc=pokemon['attack'].mean(), scale=st.sem(pokemon['attack'])))\n",
    "print(st.t.interval(0.99, len(pokemon['attack'])-1, loc=pokemon['attack'].mean(), scale=st.sem(pokemon['attack'])))\n",
    "print(st.t.interval(0.9999, len(pokemon['attack'])-1, loc=pokemon['attack'].mean(), scale=st.sem(pokemon['attack'])))\n",
    "# 95% confidence with less data\n",
    "print(\"95% confidence with less data: \", st.t.interval(0.95, len(pokemon['attack'].iloc[0:10])-1, loc=pokemon['attack'].iloc[0:10].mean(), scale=st.sem(pokemon['attack'].iloc[0:10])))"
   ]
  },
  {
   "cell_type": "code",
   "execution_count": 23,
   "id": "9251e47f",
   "metadata": {},
   "outputs": [
    {
     "name": "stdout",
     "output_type": "stream",
     "text": [
      "(71.58397577105391, 74.72896304539545)\n",
      "(71.28219283699408, 75.03074597945528)\n",
      "(70.69152249089547, 75.6214163255539)\n",
      "(69.42538542756888, 76.88755338888048)\n",
      "Less data:  (51.0246680744869, 79.77533192551311)\n"
     ]
    }
   ],
   "source": [
    "print(st.t.interval(0.90, len(pokemon['defense'])-1, loc=pokemon['defense'].mean(), scale=st.sem(pokemon['defense'])))\n",
    "print(st.t.interval(0.95, len(pokemon['defense'])-1, loc=pokemon['defense'].mean(), scale=st.sem(pokemon['defense'])))\n",
    "print(st.t.interval(0.99, len(pokemon['defense'])-1, loc=pokemon['defense'].mean(), scale=st.sem(pokemon['defense'])))\n",
    "print(st.t.interval(0.9999, len(pokemon['defense'])-1, loc=pokemon['defense'].mean(), scale=st.sem(pokemon['defense'])))\n",
    "# 95% confidence with less data\n",
    "print(\"95% confidence with less data: \", st.t.interval(0.95, len(pokemon['defense'].iloc[0:10])-1, loc=pokemon['defense'].iloc[0:10].mean(), scale=st.sem(pokemon['defense'].iloc[0:10])))"
   ]
  },
  {
   "cell_type": "code",
   "execution_count": null,
   "id": "6773b2bf",
   "metadata": {},
   "outputs": [],
   "source": []
  }
 ],
 "metadata": {
  "kernelspec": {
   "display_name": "Python 3 (ipykernel)",
   "language": "python",
   "name": "python3"
  },
  "language_info": {
   "codemirror_mode": {
    "name": "ipython",
    "version": 3
   },
   "file_extension": ".py",
   "mimetype": "text/x-python",
   "name": "python",
   "nbconvert_exporter": "python",
   "pygments_lexer": "ipython3",
   "version": "3.9.7"
  }
 },
 "nbformat": 4,
 "nbformat_minor": 5
}
