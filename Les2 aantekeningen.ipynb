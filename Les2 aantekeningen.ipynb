{
 "cells": [
  {
   "cell_type": "code",
   "execution_count": 1,
   "id": "7355429f",
   "metadata": {},
   "outputs": [],
   "source": [
    "import pandas as pd\n",
    "import numpy as np\n",
    "import seaborn as sns"
   ]
  },
  {
   "cell_type": "code",
   "execution_count": 2,
   "id": "52341b3a",
   "metadata": {},
   "outputs": [],
   "source": [
    "iris = sns.load_dataset(\"iris\")"
   ]
  },
  {
   "cell_type": "code",
   "execution_count": 3,
   "id": "bb76b50f",
   "metadata": {},
   "outputs": [
    {
     "data": {
      "text/plain": [
       "7.9"
      ]
     },
     "execution_count": 3,
     "metadata": {},
     "output_type": "execute_result"
    }
   ],
   "source": [
    "iris.sepal_length.max()"
   ]
  },
  {
   "cell_type": "markdown",
   "id": "e3738900",
   "metadata": {},
   "source": [
    "Als er 120 mensen zijn die xxs dragen, en 200 mensen xxxl, en niemand m. Dan gaat gemiddelde en median niet werken, omdat maat M dan terug gegeven wordt. Dan is Mode beter."
   ]
  },
  {
   "cell_type": "code",
   "execution_count": 4,
   "id": "c20c6d18",
   "metadata": {},
   "outputs": [
    {
     "data": {
      "text/plain": [
       "5.843333333333335"
      ]
     },
     "execution_count": 4,
     "metadata": {},
     "output_type": "execute_result"
    }
   ],
   "source": [
    "iris.sepal_length.mean() #Let op outliers! Niet weggooien zonder onderbouwing. Bijvoorbeeld Jeff Bezos niet weggooien"
   ]
  },
  {
   "cell_type": "code",
   "execution_count": 5,
   "id": "fb064abe",
   "metadata": {},
   "outputs": [
    {
     "data": {
      "text/plain": [
       "5.8"
      ]
     },
     "execution_count": 5,
     "metadata": {},
     "output_type": "execute_result"
    }
   ],
   "source": [
    "iris.sepal_length.median()"
   ]
  },
  {
   "cell_type": "code",
   "execution_count": 6,
   "id": "ae650135",
   "metadata": {},
   "outputs": [
    {
     "data": {
      "text/plain": [
       "0    5.0\n",
       "dtype: float64"
      ]
     },
     "execution_count": 6,
     "metadata": {},
     "output_type": "execute_result"
    }
   ],
   "source": [
    "iris.sepal_length.mode()"
   ]
  },
  {
   "cell_type": "code",
   "execution_count": 7,
   "id": "217c37cc",
   "metadata": {},
   "outputs": [
    {
     "data": {
      "text/plain": [
       "0.8280661279778629"
      ]
     },
     "execution_count": 7,
     "metadata": {},
     "output_type": "execute_result"
    }
   ],
   "source": [
    "iris.sepal_length.std()"
   ]
  },
  {
   "cell_type": "code",
   "execution_count": 8,
   "id": "e0cd50ce",
   "metadata": {},
   "outputs": [
    {
     "data": {
      "text/plain": [
       "<AxesSubplot:ylabel='Frequency'>"
      ]
     },
     "execution_count": 8,
     "metadata": {},
     "output_type": "execute_result"
    },
    {
     "data": {
      "image/png": "[encoded data removed]",
      "text/plain": [
       "<Figure size 432x288 with 1 Axes>"
      ]
     },
     "metadata": {
      "needs_background": "light"
     },
     "output_type": "display_data"
    }
   ],
   "source": [
    "iris.sepal_length.plot(kind='hist', bins=10)"
   ]
  },
  {
   "cell_type": "code",
   "execution_count": 9,
   "id": "66d35af1",
   "metadata": {},
   "outputs": [
    {
     "data": {
      "text/plain": [
       "<AxesSubplot:>"
      ]
     },
     "execution_count": 9,
     "metadata": {},
     "output_type": "execute_result"
    },
    {
     "data": {
      "image/png": "[encoded data removed]",
      "text/plain": [
       "<Figure size 432x288 with 1 Axes>"
      ]
     },
     "metadata": {
      "needs_background": "light"
     },
     "output_type": "display_data"
    }
   ],
   "source": [
    "iris.sepal_length.plot(kind='box')"
   ]
  },
  {
   "cell_type": "code",
   "execution_count": 54,
   "id": "164012f8",
   "metadata": {},
   "outputs": [],
   "source": [
    "minValue = 1\n",
    "maxValue = 6\n",
    "numberOfSamples = 100000"
   ]
  },
  {
   "cell_type": "code",
   "execution_count": 55,
   "id": "938ade66",
   "metadata": {},
   "outputs": [],
   "source": [
    "results = pd.Series(np.random.randint(low=minValue, high=maxValue + 1, size=numberOfSamples))"
   ]
  },
  {
   "cell_type": "code",
   "execution_count": 56,
   "id": "fc60e334",
   "metadata": {},
   "outputs": [
    {
     "data": {
      "text/plain": [
       "<AxesSubplot:>"
      ]
     },
     "execution_count": 56,
     "metadata": {},
     "output_type": "execute_result"
    },
    {
     "data": {
      "image/png": "[encoded data removed]",
      "text/plain": [
       "<Figure size 432x288 with 1 Axes>"
      ]
     },
     "metadata": {
      "needs_background": "light"
     },
     "output_type": "display_data"
    }
   ],
   "source": [
    "results.value_counts().sort_index().plot(kind='bar')"
   ]
  },
  {
   "cell_type": "code",
   "execution_count": 57,
   "id": "b6249604",
   "metadata": {},
   "outputs": [],
   "source": [
    "averageLength = 174.25\n",
    "stdLength = 8\n",
    "numberOfPeopleToSample = 1000000"
   ]
  },
  {
   "cell_type": "code",
   "execution_count": 58,
   "id": "54f453f5",
   "metadata": {},
   "outputs": [],
   "source": [
    "randomLengths = pd.Series(np.random.normal(averageLength, stdLength, numberOfPeopleToSample))"
   ]
  },
  {
   "cell_type": "code",
   "execution_count": 59,
   "id": "b6484e1f",
   "metadata": {},
   "outputs": [
    {
     "data": {
      "text/plain": [
       "0         184.049903\n",
       "1         174.575601\n",
       "2         172.965643\n",
       "3         182.216414\n",
       "4         178.663711\n",
       "             ...    \n",
       "999995    179.997549\n",
       "999996    173.048096\n",
       "999997    184.034367\n",
       "999998    165.774094\n",
       "999999    166.825378\n",
       "Length: 1000000, dtype: float64"
      ]
     },
     "execution_count": 59,
     "metadata": {},
     "output_type": "execute_result"
    }
   ],
   "source": [
    "randomLengths"
   ]
  },
  {
   "cell_type": "code",
   "execution_count": 60,
   "id": "850acd00",
   "metadata": {},
   "outputs": [
    {
     "data": {
      "text/plain": [
       "<AxesSubplot:ylabel='Frequency'>"
      ]
     },
     "execution_count": 60,
     "metadata": {},
     "output_type": "execute_result"
    },
    {
     "data": {
      "image/png": "[encoded data removed]",
      "text/plain": [
       "<Figure size 432x288 with 1 Axes>"
      ]
     },
     "metadata": {
      "needs_background": "light"
     },
     "output_type": "display_data"
    }
   ],
   "source": [
    "randomLengths.plot(kind='hist', bins=1000)"
   ]
  },
  {
   "cell_type": "code",
   "execution_count": 63,
   "id": "c6e35778",
   "metadata": {},
   "outputs": [],
   "source": [
    "sampleMeans = []\n",
    "sampleSize=100\n",
    "sampleMeanSize = 10000\n",
    "\n",
    "for i in range(sampleMeanSize):\n",
    "    randomRolls = pd.Series(np.random.randint(low=minValue, high=maxValue+1, size=numberOfSamples))\n",
    "    sampleMeans.append(randomRolls.mean())"
   ]
  },
  {
   "cell_type": "code",
   "execution_count": 64,
   "id": "bfa4d783",
   "metadata": {},
   "outputs": [
    {
     "data": {
      "text/plain": [
       "<AxesSubplot:ylabel='Frequency'>"
      ]
     },
     "execution_count": 64,
     "metadata": {},
     "output_type": "execute_result"
    },
    {
     "data": {
      "image/png": "[encoded data removed]",
      "text/plain": [
       "<Figure size 432x288 with 1 Axes>"
      ]
     },
     "metadata": {
      "needs_background": "light"
     },
     "output_type": "display_data"
    }
   ],
   "source": [
    "pd.Series(sampleMeans).plot(kind='hist', bins=100)"
   ]
  },
  {
   "cell_type": "code",
   "execution_count": null,
   "id": "fb4ed190",
   "metadata": {},
   "outputs": [],
   "source": []
  }
 ],
 "metadata": {
  "kernelspec": {
   "display_name": "Python 3 (ipykernel)",
   "language": "python",
   "name": "python3"
  },
  "language_info": {
   "codemirror_mode": {
    "name": "ipython",
    "version": 3
   },
   "file_extension": ".py",
   "mimetype": "text/x-python",
   "name": "python",
   "nbconvert_exporter": "python",
   "pygments_lexer": "ipython3",
   "version": "3.9.7"
  }
 },
 "nbformat": 4,
 "nbformat_minor": 5
}
