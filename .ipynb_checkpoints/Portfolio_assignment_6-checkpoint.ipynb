{
 "cells": [
  {
   "cell_type": "code",
   "execution_count": 2,
   "id": "cd400f18",
   "metadata": {},
   "outputs": [],
   "source": [
    "import pandas as pd"
   ]
  },
  {
   "cell_type": "code",
   "execution_count": 3,
   "id": "e97fc06e",
   "metadata": {},
   "outputs": [],
   "source": [
    "pokemon = pd.read_csv('pokedex_(Update_04.21).csv', sep=',')"
   ]
  },
  {
   "cell_type": "markdown",
   "id": "40e4c29f",
   "metadata": {},
   "source": [
    "# Highest attack per generation"
   ]
  },
  {
   "cell_type": "code",
   "execution_count": 62,
   "id": "9182687e",
   "metadata": {},
   "outputs": [
    {
     "name": "stdout",
     "output_type": "stream",
     "text": [
      "1 190\n",
      "8 170\n",
      "2 185\n",
      "3 180\n",
      "4 170\n",
      "5 170\n",
      "6 160\n",
      "7 181\n"
     ]
    }
   ],
   "source": [
    "pd.set_option('max_columns', 100)\n",
    "generations = pokemon['generation'].unique()\n",
    "for gen in generations:\n",
    "    print(gen, pokemon[pokemon.generation == gen].attack.max())"
   ]
  },
  {
   "cell_type": "code",
   "execution_count": null,
   "id": "d50db522",
   "metadata": {},
   "outputs": [],
   "source": []
  }
 ],
 "metadata": {
  "kernelspec": {
   "display_name": "Python 3 (ipykernel)",
   "language": "python",
   "name": "python3"
  },
  "language_info": {
   "codemirror_mode": {
    "name": "ipython",
    "version": 3
   },
   "file_extension": ".py",
   "mimetype": "text/x-python",
   "name": "python",
   "nbconvert_exporter": "python",
   "pygments_lexer": "ipython3",
   "version": "3.9.7"
  }
 },
 "nbformat": 4,
 "nbformat_minor": 5
}
